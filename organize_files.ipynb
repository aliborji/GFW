{
 "cells": [
  {
   "cell_type": "markdown",
   "id": "a250eed6-8493-4248-b903-07317d4d4b3b",
   "metadata": {},
   "source": [
    "## Merge folders"
   ]
  },
  {
   "cell_type": "code",
   "execution_count": 163,
   "id": "edfe2977-b4cd-4097-86b7-e1f49049b74d",
   "metadata": {},
   "outputs": [],
   "source": [
    "import os\n",
    "import shutil\n",
    "import os.path as op\n",
    "\n"
   ]
  },
  {
   "cell_type": "code",
   "execution_count": 164,
   "id": "633ddb93-0c46-4014-9135-c2e967d99b9e",
   "metadata": {},
   "outputs": [
    {
     "data": {
      "text/plain": [
       "'00000'"
      ]
     },
     "execution_count": 164,
     "metadata": {},
     "output_type": "execute_result"
    }
   ],
   "source": [
    "'0'.zfill(5)"
   ]
  },
  {
   "cell_type": "code",
   "execution_count": 211,
   "id": "f24ff78c-1a99-4c14-ae4d-7587072eadd1",
   "metadata": {},
   "outputs": [],
   "source": [
    "dest = 'faces_generated_midjourney/'\n",
    "# dest = 'generated_data/images_generated/'\n",
    "# dest = 'real_faces'\n",
    "source = 'xx'"
   ]
  },
  {
   "cell_type": "code",
   "execution_count": 212,
   "id": "792b62fb-8592-4fbf-be15-49abb03d7b82",
   "metadata": {},
   "outputs": [],
   "source": [
    "# os.mkdir(dest)"
   ]
  },
  {
   "cell_type": "code",
   "execution_count": 213,
   "id": "f0bcc29a-b722-4297-92fc-67778095a3b3",
   "metadata": {},
   "outputs": [],
   "source": [
    "# folders = ['faces_generated']\n",
    "folders = ['MidFaces']\n",
    "# folders = ['images_generated']"
   ]
  },
  {
   "cell_type": "code",
   "execution_count": 214,
   "id": "5ee77ad4-ac6f-4395-b71f-3acc91f5263f",
   "metadata": {},
   "outputs": [
    {
     "name": "stdout",
     "output_type": "stream",
     "text": [
      "MidFaces\n",
      "6350 files were copied from xx to faces_generated_midjourney/\n"
     ]
    }
   ],
   "source": [
    "count = 0 #len(os.listdir(dest)) + 000\n",
    "count0 = count\n",
    "\n",
    "# folders = os.listdir(source)\n",
    "for f in folders:\n",
    "    if f.startswith('.'): continue\n",
    "    \n",
    "    files = os.listdir(op.join(source, f))\n",
    "    \n",
    "    print(f)\n",
    "    for fname in files:\n",
    "        if fname.startswith('.'): continue\n",
    "        \n",
    "        newf = str(count).zfill(5) + '.jpeg'\n",
    "        shutil.move(op.join(source, f, fname), op.join(dest, newf))\n",
    "        count += 1\n",
    "                \n",
    "print(f'{count - count0} files were copied from {source} to {dest}')            "
   ]
  },
  {
   "cell_type": "code",
   "execution_count": 83,
   "id": "137003d8-05f9-4932-bb72-2ca1250e5bd5",
   "metadata": {},
   "outputs": [
    {
     "data": {
      "text/plain": [
       "'real_faces'"
      ]
     },
     "execution_count": 83,
     "metadata": {},
     "output_type": "execute_result"
    }
   ],
   "source": [
    "dest"
   ]
  },
  {
   "cell_type": "code",
   "execution_count": 43,
   "id": "e5c29fe0-1255-49f2-8833-2a7fff2d4a9c",
   "metadata": {},
   "outputs": [
    {
     "data": {
      "text/plain": [
       "'realfaces/faces0/537.jpeg'"
      ]
     },
     "execution_count": 43,
     "metadata": {},
     "output_type": "execute_result"
    }
   ],
   "source": [
    "op.join(source, f, fname)"
   ]
  },
  {
   "cell_type": "code",
   "execution_count": 44,
   "id": "07ddc5fb-2874-49a8-b52b-09aede72dc7f",
   "metadata": {},
   "outputs": [
    {
     "data": {
      "text/plain": [
       "'real_data/07882.jpeg'"
      ]
     },
     "execution_count": 44,
     "metadata": {},
     "output_type": "execute_result"
    }
   ],
   "source": [
    "op.join(dest, newf)"
   ]
  },
  {
   "cell_type": "code",
   "execution_count": 45,
   "id": "278a1f67-a805-4422-b0af-354d4f7fad11",
   "metadata": {},
   "outputs": [
    {
     "data": {
      "text/plain": [
       "7883"
      ]
     },
     "execution_count": 45,
     "metadata": {},
     "output_type": "execute_result"
    }
   ],
   "source": [
    "count"
   ]
  },
  {
   "cell_type": "code",
   "execution_count": null,
   "id": "936effd5-ad34-4273-ad24-95d06f89fbb4",
   "metadata": {},
   "outputs": [],
   "source": []
  }
 ],
 "metadata": {
  "kernelspec": {
   "display_name": "Python 3 (ipykernel)",
   "language": "python",
   "name": "python3"
  },
  "language_info": {
   "codemirror_mode": {
    "name": "ipython",
    "version": 3
   },
   "file_extension": ".py",
   "mimetype": "text/x-python",
   "name": "python",
   "nbconvert_exporter": "python",
   "pygments_lexer": "ipython3",
   "version": "3.9.7"
  }
 },
 "nbformat": 4,
 "nbformat_minor": 5
}
